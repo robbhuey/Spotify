{
 "cells": [
  {
   "cell_type": "markdown",
   "id": "9817dac6-3dc9-4137-97cb-846b9cd8b576",
   "metadata": {},
   "source": [
    "# Recommender."
   ]
  },
  {
   "cell_type": "code",
   "execution_count": 31,
   "id": "ee665815-b361-4910-ab86-ab566b7f7c4b",
   "metadata": {},
   "outputs": [],
   "source": [
    "import pandas as pd\n",
    "import numpy as np\n",
    "\n",
    "import string\n",
    "import nltk\n",
    "from nltk.tokenize import word_tokenize\n",
    "from sklearn.feature_extraction.text import TfidfVectorizer\n",
    "from sklearn.metrics.pairwise import cosine_similarity\n",
    "\n",
    "import warnings\n",
    "warnings.filterwarnings('ignore')"
   ]
  },
  {
   "cell_type": "markdown",
   "id": "bae938e5-078e-4919-a919-29c6292491dc",
   "metadata": {},
   "source": [
    "## Read in the data with the clusters."
   ]
  },
  {
   "cell_type": "code",
   "execution_count": 27,
   "id": "99d28117-96e3-455b-bfd3-b31f9975565d",
   "metadata": {
    "tags": []
   },
   "outputs": [],
   "source": [
    "spot = pd.read_csv('../Data/clean/final.csv')"
   ]
  },
  {
   "cell_type": "code",
   "execution_count": 28,
   "id": "012ccd3a-12f0-4806-8d0b-29d727535340",
   "metadata": {
    "tags": []
   },
   "outputs": [
    {
     "data": {
      "text/html": [
       "<div>\n",
       "<style scoped>\n",
       "    .dataframe tbody tr th:only-of-type {\n",
       "        vertical-align: middle;\n",
       "    }\n",
       "\n",
       "    .dataframe tbody tr th {\n",
       "        vertical-align: top;\n",
       "    }\n",
       "\n",
       "    .dataframe thead th {\n",
       "        text-align: right;\n",
       "    }\n",
       "</style>\n",
       "<table border=\"1\" class=\"dataframe\">\n",
       "  <thead>\n",
       "    <tr style=\"text-align: right;\">\n",
       "      <th></th>\n",
       "      <th>song title</th>\n",
       "      <th>artist</th>\n",
       "      <th>top genre</th>\n",
       "      <th>year</th>\n",
       "      <th>added</th>\n",
       "      <th>bpm</th>\n",
       "      <th>energy</th>\n",
       "      <th>dance</th>\n",
       "      <th>dB</th>\n",
       "      <th>live</th>\n",
       "      <th>valence</th>\n",
       "      <th>dur</th>\n",
       "      <th>acous</th>\n",
       "      <th>spch</th>\n",
       "      <th>popularity</th>\n",
       "      <th>km cluster</th>\n",
       "    </tr>\n",
       "  </thead>\n",
       "  <tbody>\n",
       "    <tr>\n",
       "      <th>0</th>\n",
       "      <td>Chop Suey!</td>\n",
       "      <td>System Of A Down</td>\n",
       "      <td>alternative metal</td>\n",
       "      <td>2001</td>\n",
       "      <td>1969‑12‑31</td>\n",
       "      <td>127</td>\n",
       "      <td>93</td>\n",
       "      <td>42</td>\n",
       "      <td>-4</td>\n",
       "      <td>13</td>\n",
       "      <td>29</td>\n",
       "      <td>210</td>\n",
       "      <td>0</td>\n",
       "      <td>12</td>\n",
       "      <td>86</td>\n",
       "      <td>2</td>\n",
       "    </tr>\n",
       "    <tr>\n",
       "      <th>1</th>\n",
       "      <td>Just Pretend</td>\n",
       "      <td>Bad Omens</td>\n",
       "      <td>american metalcore</td>\n",
       "      <td>2022</td>\n",
       "      <td>1969‑12‑31</td>\n",
       "      <td>140</td>\n",
       "      <td>83</td>\n",
       "      <td>46</td>\n",
       "      <td>-5</td>\n",
       "      <td>10</td>\n",
       "      <td>20</td>\n",
       "      <td>205</td>\n",
       "      <td>0</td>\n",
       "      <td>8</td>\n",
       "      <td>81</td>\n",
       "      <td>2</td>\n",
       "    </tr>\n",
       "    <tr>\n",
       "      <th>2</th>\n",
       "      <td>Monster</td>\n",
       "      <td>Skillet</td>\n",
       "      <td>alternative metal</td>\n",
       "      <td>2009</td>\n",
       "      <td>1969‑12‑31</td>\n",
       "      <td>135</td>\n",
       "      <td>96</td>\n",
       "      <td>64</td>\n",
       "      <td>-2</td>\n",
       "      <td>8</td>\n",
       "      <td>69</td>\n",
       "      <td>178</td>\n",
       "      <td>4</td>\n",
       "      <td>7</td>\n",
       "      <td>80</td>\n",
       "      <td>2</td>\n",
       "    </tr>\n",
       "    <tr>\n",
       "      <th>3</th>\n",
       "      <td>Popular Monster</td>\n",
       "      <td>Falling In Reverse</td>\n",
       "      <td>alternative metal</td>\n",
       "      <td>2019</td>\n",
       "      <td>1969‑12‑31</td>\n",
       "      <td>165</td>\n",
       "      <td>90</td>\n",
       "      <td>46</td>\n",
       "      <td>-4</td>\n",
       "      <td>10</td>\n",
       "      <td>36</td>\n",
       "      <td>221</td>\n",
       "      <td>1</td>\n",
       "      <td>9</td>\n",
       "      <td>78</td>\n",
       "      <td>2</td>\n",
       "    </tr>\n",
       "    <tr>\n",
       "      <th>4</th>\n",
       "      <td>Watch The World Burn</td>\n",
       "      <td>Falling In Reverse</td>\n",
       "      <td>alternative metal</td>\n",
       "      <td>2023</td>\n",
       "      <td>1969‑12‑31</td>\n",
       "      <td>162</td>\n",
       "      <td>78</td>\n",
       "      <td>40</td>\n",
       "      <td>-6</td>\n",
       "      <td>21</td>\n",
       "      <td>35</td>\n",
       "      <td>204</td>\n",
       "      <td>1</td>\n",
       "      <td>13</td>\n",
       "      <td>78</td>\n",
       "      <td>2</td>\n",
       "    </tr>\n",
       "  </tbody>\n",
       "</table>\n",
       "</div>"
      ],
      "text/plain": [
       "             song title              artist           top genre  year  \\\n",
       "0            Chop Suey!    System Of A Down   alternative metal  2001   \n",
       "1          Just Pretend           Bad Omens  american metalcore  2022   \n",
       "2               Monster             Skillet   alternative metal  2009   \n",
       "3       Popular Monster  Falling In Reverse   alternative metal  2019   \n",
       "4  Watch The World Burn  Falling In Reverse   alternative metal  2023   \n",
       "\n",
       "        added  bpm  energy  dance  dB  live  valence  dur  acous  spch  \\\n",
       "0  1969‑12‑31  127      93     42  -4    13       29  210      0    12   \n",
       "1  1969‑12‑31  140      83     46  -5    10       20  205      0     8   \n",
       "2  1969‑12‑31  135      96     64  -2     8       69  178      4     7   \n",
       "3  1969‑12‑31  165      90     46  -4    10       36  221      1     9   \n",
       "4  1969‑12‑31  162      78     40  -6    21       35  204      1    13   \n",
       "\n",
       "   popularity  km cluster  \n",
       "0          86           2  \n",
       "1          81           2  \n",
       "2          80           2  \n",
       "3          78           2  \n",
       "4          78           2  "
      ]
     },
     "execution_count": 28,
     "metadata": {},
     "output_type": "execute_result"
    }
   ],
   "source": [
    "spot.head()"
   ]
  },
  {
   "cell_type": "markdown",
   "id": "9eb01f24-cc3e-4240-82f8-8e11f0785195",
   "metadata": {},
   "source": [
    "## Make the clusters into separate sections"
   ]
  },
  {
   "cell_type": "code",
   "execution_count": 22,
   "id": "1f321824-d634-4619-b2f4-d593e0ba0777",
   "metadata": {
    "tags": []
   },
   "outputs": [],
   "source": [
    "# Lived in chat gpt and reading articles to create the recommender system. \n",
    "# While no code from this article was used it did give me a lot of pointers on how to make proceed.\n",
    "# https://asdkazmi.medium.com/ai-movies-recommendation-system-with-clustering-based-k-means-algorithm-f04467e02fcd\n",
    "cluster_0_songs = spot[spot['km cluster'] == 0]  \n",
    "cluster_1_songs = spot[spot['km cluster'] == 1]  \n",
    "cluster_2_songs = spot[spot['km cluster'] == 2]  "
   ]
  },
  {
   "cell_type": "markdown",
   "id": "d9564fb6-ada4-4735-bdae-e39010e8f92b",
   "metadata": {},
   "source": [
    "## Tokenize"
   ]
  },
  {
   "cell_type": "code",
   "execution_count": 29,
   "id": "98fc50c0-1691-43da-af32-42d24709b66f",
   "metadata": {
    "tags": []
   },
   "outputs": [],
   "source": [
    "# Define a function for text preprocessing\n",
    "def preprocess_text(text):\n",
    "    text = text.lower()\n",
    "    text = ''.join([char for char in text if char not in string.punctuation])\n",
    "    tokens = word_tokenize(text)\n",
    "    return tokens\n",
    "\n",
    "# Apply text preprocessing to song titles in each cluster\n",
    "cluster_0_songs['song_tokens'] = cluster_0_songs['song title'].apply(preprocess_text)\n",
    "cluster_1_songs['song_tokens'] = cluster_1_songs['song title'].apply(preprocess_text)\n",
    "cluster_2_songs['song_tokens'] = cluster_2_songs['song title'].apply(preprocess_text)\n"
   ]
  },
  {
   "cell_type": "markdown",
   "id": "f8720828-f1d4-4751-91d2-161e5a9f5f74",
   "metadata": {},
   "source": [
    "## TFID to look at term frequency in titles."
   ]
  },
  {
   "cell_type": "code",
   "execution_count": 32,
   "id": "f85ae586-db70-4adb-9605-ddb39ec4e059",
   "metadata": {
    "tags": []
   },
   "outputs": [],
   "source": [
    "# Create TF-IDF vectorizers for each cluster\n",
    "tfidf_vectorizer_0 = TfidfVectorizer()\n",
    "tfidf_vectorizer_1 = TfidfVectorizer()\n",
    "tfidf_vectorizer_2 = TfidfVectorizer()\n",
    "\n",
    "# Fit and transform the clusters.\n",
    "tfidf_matrix_0 = tfidf_vectorizer_0.fit_transform(cluster_0_songs['song_tokens'].apply(lambda x: ' '.join(x)))\n",
    "tfidf_matrix_1 = tfidf_vectorizer_1.fit_transform(cluster_1_songs['song_tokens'].apply(lambda x: ' '.join(x)))\n",
    "tfidf_matrix_2 = tfidf_vectorizer_2.fit_transform(cluster_2_songs['song_tokens'].apply(lambda x: ' '.join(x)))\n"
   ]
  },
  {
   "cell_type": "markdown",
   "id": "793d77fc-0b15-4fbb-aa37-a9c4ac526685",
   "metadata": {},
   "source": [
    "## Calculate Cosine Similarity between the songs in each cluster."
   ]
  },
  {
   "cell_type": "code",
   "execution_count": 25,
   "id": "4aea61ed-f04e-4653-8ee8-1a8229179b6c",
   "metadata": {
    "tags": []
   },
   "outputs": [],
   "source": [
    "# Applying cosine similarity to each cluster.\n",
    "cosine_sim_matrix_0 = cosine_similarity(tfidf_matrix_0)\n",
    "cosine_sim_matrix_1 = cosine_similarity(tfidf_matrix_1)\n",
    "cosine_sim_matrix_2 = cosine_similarity(tfidf_matrix_2)"
   ]
  },
  {
   "cell_type": "markdown",
   "id": "c1428786-4cca-4f10-825b-4fe19dc37eb7",
   "metadata": {},
   "source": [
    "## Recommender"
   ]
  },
  {
   "cell_type": "code",
   "execution_count": 26,
   "id": "fc46fcb1-e938-4695-a172-65fdac9af922",
   "metadata": {
    "tags": []
   },
   "outputs": [
    {
     "name": "stdout",
     "output_type": "stream",
     "text": [
      "Top 10 recommended songs:\n",
      "                      song title              artist  energy\n",
      "1276               I'm A Monster               Lucha      91\n",
      "3                Popular Monster  Falling In Reverse      90\n",
      "0                     Chop Suey!    System Of A Down      93\n",
      "1                   Just Pretend           Bad Omens      83\n",
      "4           Watch The World Burn  Falling In Reverse      78\n",
      "5                         Bodies       Drowning Pool      93\n",
      "6     THE DEATH OF PEACE OF MIND           Bad Omens      71\n",
      "7              Voices In My Head  Falling In Reverse      90\n",
      "8           Animal I Have Become    Three Days Grace      85\n",
      "9                  The Summoning         Sleep Token      70\n"
     ]
    }
   ],
   "source": [
    "def recommend_songs(song_title, cluster, cosine_sim_matrix, n=10):\n",
    "    # Check if the song title exists in the cluster\n",
    "    if song_title not in cluster['song title'].values:\n",
    "        return \"Song not found in this cluster.\"\n",
    "\n",
    "    song_index = cluster[cluster['song title'] == song_title].index[0]\n",
    "    sim_scores = list(enumerate(cosine_sim_matrix[song_index]))\n",
    "    sim_scores = sorted(sim_scores, key=lambda x: x[1], reverse=True)\n",
    "    sim_scores = sim_scores[1:n+1]  # Get the top n (in this case, 10) similar songs\n",
    "    song_indices = [i[0] for i in sim_scores]\n",
    "    recommended_songs = cluster.iloc[song_indices][['song title', 'artist', 'energy']]\n",
    "    return recommended_songs\n",
    "\n",
    "# Input the song title for which you want recommendations\n",
    "input_song_title = 'Monster'\n",
    "\n",
    "# Recommend the top 10 songs for the input song title in the correct cluster\n",
    "if input_song_title in cluster_0_songs['song title'].values:\n",
    "    recommended_songs = recommend_songs(input_song_title, cluster_0_songs, cosine_sim_matrix_0)\n",
    "elif input_song_title in cluster_1_songs['song title'].values:\n",
    "    recommended_songs = recommend_songs(input_song_title, cluster_1_songs, cosine_sim_matrix_1)\n",
    "elif input_song_title in cluster_2_songs['song title'].values:\n",
    "    recommended_songs = recommend_songs(input_song_title, cluster_2_songs, cosine_sim_matrix_2)\n",
    "else:\n",
    "    recommended_songs = \"Song not found in any cluster.\"\n",
    "\n",
    "# Print the top 10 recommended songs with artist and energy level\n",
    "print(\"Top 10 recommended songs:\")\n",
    "print(recommended_songs)\n"
   ]
  }
 ],
 "metadata": {
  "kernelspec": {
   "display_name": "Python [conda env:dsi] *",
   "language": "python",
   "name": "conda-env-dsi-py"
  },
  "language_info": {
   "codemirror_mode": {
    "name": "ipython",
    "version": 3
   },
   "file_extension": ".py",
   "mimetype": "text/x-python",
   "name": "python",
   "nbconvert_exporter": "python",
   "pygments_lexer": "ipython3",
   "version": "3.8.16"
  }
 },
 "nbformat": 4,
 "nbformat_minor": 5
}
