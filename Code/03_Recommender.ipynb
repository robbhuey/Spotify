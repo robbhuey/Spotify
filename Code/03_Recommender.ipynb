{
 "cells": [
  {
   "cell_type": "markdown",
   "id": "6f356693-2b92-4f8f-87ec-bd6e5556a1e5",
   "metadata": {},
   "source": [
    "## Imports"
   ]
  },
  {
   "cell_type": "code",
   "execution_count": 9,
   "id": "61780b6d-936a-42da-ae74-e2d5a28c9d7e",
   "metadata": {},
   "outputs": [],
   "source": [
    "import pandas as pd\n",
    "import numpy as np\n",
    "\n",
    "import warnings\n",
    "warnings.filterwarnings('ignore')"
   ]
  },
  {
   "cell_type": "markdown",
   "id": "1e8580d7-91b8-4595-9899-10c42aca6558",
   "metadata": {},
   "source": [
    "## Loading in Data"
   ]
  },
  {
   "cell_type": "code",
   "execution_count": 15,
   "id": "cce88349-99ba-4e4e-ae4b-2915be5c3cab",
   "metadata": {
    "tags": []
   },
   "outputs": [],
   "source": [
    "spot = pd.read_csv('Data/clean/final.csv')"
   ]
  },
  {
   "cell_type": "code",
   "execution_count": 16,
   "id": "b675e3eb-d2d5-4204-9924-ee03253300da",
   "metadata": {
    "tags": []
   },
   "outputs": [
    {
     "data": {
      "text/html": [
       "<div>\n",
       "<style scoped>\n",
       "    .dataframe tbody tr th:only-of-type {\n",
       "        vertical-align: middle;\n",
       "    }\n",
       "\n",
       "    .dataframe tbody tr th {\n",
       "        vertical-align: top;\n",
       "    }\n",
       "\n",
       "    .dataframe thead th {\n",
       "        text-align: right;\n",
       "    }\n",
       "</style>\n",
       "<table border=\"1\" class=\"dataframe\">\n",
       "  <thead>\n",
       "    <tr style=\"text-align: right;\">\n",
       "      <th></th>\n",
       "      <th>song title</th>\n",
       "      <th>artist</th>\n",
       "      <th>top genre</th>\n",
       "      <th>year</th>\n",
       "      <th>added</th>\n",
       "      <th>bpm</th>\n",
       "      <th>energy</th>\n",
       "      <th>dance</th>\n",
       "      <th>dB</th>\n",
       "      <th>live</th>\n",
       "      <th>valence</th>\n",
       "      <th>dur</th>\n",
       "      <th>acous</th>\n",
       "      <th>spch</th>\n",
       "      <th>popularity</th>\n",
       "    </tr>\n",
       "  </thead>\n",
       "  <tbody>\n",
       "    <tr>\n",
       "      <th>0</th>\n",
       "      <td>Chop Suey!</td>\n",
       "      <td>System Of A Down</td>\n",
       "      <td>alternative metal</td>\n",
       "      <td>2001</td>\n",
       "      <td>1969‑12‑31</td>\n",
       "      <td>127</td>\n",
       "      <td>93</td>\n",
       "      <td>42</td>\n",
       "      <td>-4</td>\n",
       "      <td>13</td>\n",
       "      <td>29</td>\n",
       "      <td>210</td>\n",
       "      <td>0</td>\n",
       "      <td>12</td>\n",
       "      <td>86</td>\n",
       "    </tr>\n",
       "    <tr>\n",
       "      <th>1</th>\n",
       "      <td>Just Pretend</td>\n",
       "      <td>Bad Omens</td>\n",
       "      <td>american metalcore</td>\n",
       "      <td>2022</td>\n",
       "      <td>1969‑12‑31</td>\n",
       "      <td>140</td>\n",
       "      <td>83</td>\n",
       "      <td>46</td>\n",
       "      <td>-5</td>\n",
       "      <td>10</td>\n",
       "      <td>20</td>\n",
       "      <td>205</td>\n",
       "      <td>0</td>\n",
       "      <td>8</td>\n",
       "      <td>81</td>\n",
       "    </tr>\n",
       "    <tr>\n",
       "      <th>2</th>\n",
       "      <td>Monster</td>\n",
       "      <td>Skillet</td>\n",
       "      <td>alternative metal</td>\n",
       "      <td>2009</td>\n",
       "      <td>1969‑12‑31</td>\n",
       "      <td>135</td>\n",
       "      <td>96</td>\n",
       "      <td>64</td>\n",
       "      <td>-2</td>\n",
       "      <td>8</td>\n",
       "      <td>69</td>\n",
       "      <td>178</td>\n",
       "      <td>4</td>\n",
       "      <td>7</td>\n",
       "      <td>80</td>\n",
       "    </tr>\n",
       "    <tr>\n",
       "      <th>3</th>\n",
       "      <td>Popular Monster</td>\n",
       "      <td>Falling In Reverse</td>\n",
       "      <td>alternative metal</td>\n",
       "      <td>2019</td>\n",
       "      <td>1969‑12‑31</td>\n",
       "      <td>165</td>\n",
       "      <td>90</td>\n",
       "      <td>46</td>\n",
       "      <td>-4</td>\n",
       "      <td>10</td>\n",
       "      <td>36</td>\n",
       "      <td>221</td>\n",
       "      <td>1</td>\n",
       "      <td>9</td>\n",
       "      <td>78</td>\n",
       "    </tr>\n",
       "    <tr>\n",
       "      <th>4</th>\n",
       "      <td>Watch The World Burn</td>\n",
       "      <td>Falling In Reverse</td>\n",
       "      <td>alternative metal</td>\n",
       "      <td>2023</td>\n",
       "      <td>1969‑12‑31</td>\n",
       "      <td>162</td>\n",
       "      <td>78</td>\n",
       "      <td>40</td>\n",
       "      <td>-6</td>\n",
       "      <td>21</td>\n",
       "      <td>35</td>\n",
       "      <td>204</td>\n",
       "      <td>1</td>\n",
       "      <td>13</td>\n",
       "      <td>78</td>\n",
       "    </tr>\n",
       "  </tbody>\n",
       "</table>\n",
       "</div>"
      ],
      "text/plain": [
       "             song title              artist           top genre  year  \\\n",
       "0            Chop Suey!    System Of A Down   alternative metal  2001   \n",
       "1          Just Pretend           Bad Omens  american metalcore  2022   \n",
       "2               Monster             Skillet   alternative metal  2009   \n",
       "3       Popular Monster  Falling In Reverse   alternative metal  2019   \n",
       "4  Watch The World Burn  Falling In Reverse   alternative metal  2023   \n",
       "\n",
       "        added  bpm  energy  dance  dB  live  valence  dur  acous  spch  \\\n",
       "0  1969‑12‑31  127      93     42  -4    13       29  210      0    12   \n",
       "1  1969‑12‑31  140      83     46  -5    10       20  205      0     8   \n",
       "2  1969‑12‑31  135      96     64  -2     8       69  178      4     7   \n",
       "3  1969‑12‑31  165      90     46  -4    10       36  221      1     9   \n",
       "4  1969‑12‑31  162      78     40  -6    21       35  204      1    13   \n",
       "\n",
       "   popularity  \n",
       "0          86  \n",
       "1          81  \n",
       "2          80  \n",
       "3          78  \n",
       "4          78  "
      ]
     },
     "execution_count": 16,
     "metadata": {},
     "output_type": "execute_result"
    }
   ],
   "source": [
    "spot.head()"
   ]
  },
  {
   "cell_type": "code",
   "execution_count": 17,
   "id": "a72e5d17-0967-423b-99d0-4078a8265c7e",
   "metadata": {
    "tags": []
   },
   "outputs": [],
   "source": [
    "# Creating a simple dataframe to use for my recommender.\n",
    "rec = spot[['song title', 'artist', 'energy']]"
   ]
  },
  {
   "cell_type": "code",
   "execution_count": 14,
   "id": "b581c531-eff4-43d9-98a6-3285bd254f9c",
   "metadata": {
    "tags": []
   },
   "outputs": [
    {
     "data": {
      "text/html": [
       "<div>\n",
       "<style scoped>\n",
       "    .dataframe tbody tr th:only-of-type {\n",
       "        vertical-align: middle;\n",
       "    }\n",
       "\n",
       "    .dataframe tbody tr th {\n",
       "        vertical-align: top;\n",
       "    }\n",
       "\n",
       "    .dataframe thead th {\n",
       "        text-align: right;\n",
       "    }\n",
       "</style>\n",
       "<table border=\"1\" class=\"dataframe\">\n",
       "  <thead>\n",
       "    <tr style=\"text-align: right;\">\n",
       "      <th></th>\n",
       "      <th>song title</th>\n",
       "      <th>artist</th>\n",
       "      <th>energy</th>\n",
       "    </tr>\n",
       "  </thead>\n",
       "  <tbody>\n",
       "    <tr>\n",
       "      <th>0</th>\n",
       "      <td>Chop Suey!</td>\n",
       "      <td>System Of A Down</td>\n",
       "      <td>93</td>\n",
       "    </tr>\n",
       "    <tr>\n",
       "      <th>1</th>\n",
       "      <td>Just Pretend</td>\n",
       "      <td>Bad Omens</td>\n",
       "      <td>83</td>\n",
       "    </tr>\n",
       "    <tr>\n",
       "      <th>2</th>\n",
       "      <td>Monster</td>\n",
       "      <td>Skillet</td>\n",
       "      <td>96</td>\n",
       "    </tr>\n",
       "    <tr>\n",
       "      <th>3</th>\n",
       "      <td>Popular Monster</td>\n",
       "      <td>Falling In Reverse</td>\n",
       "      <td>90</td>\n",
       "    </tr>\n",
       "    <tr>\n",
       "      <th>4</th>\n",
       "      <td>Watch The World Burn</td>\n",
       "      <td>Falling In Reverse</td>\n",
       "      <td>78</td>\n",
       "    </tr>\n",
       "  </tbody>\n",
       "</table>\n",
       "</div>"
      ],
      "text/plain": [
       "             song title              artist  energy\n",
       "0            Chop Suey!    System Of A Down      93\n",
       "1          Just Pretend           Bad Omens      83\n",
       "2               Monster             Skillet      96\n",
       "3       Popular Monster  Falling In Reverse      90\n",
       "4  Watch The World Burn  Falling In Reverse      78"
      ]
     },
     "execution_count": 14,
     "metadata": {},
     "output_type": "execute_result"
    }
   ],
   "source": [
    "rec.head()"
   ]
  },
  {
   "cell_type": "code",
   "execution_count": 6,
   "id": "1d9298ae-c86c-48ab-b12f-ce27f0f878c5",
   "metadata": {},
   "outputs": [],
   "source": [
    "# Saving it to a csv so I can use it via py file.\n",
    "rec.to_csv('rec.csv', index = False)"
   ]
  },
  {
   "cell_type": "markdown",
   "id": "ab548766-41af-4667-a059-03ce493946f3",
   "metadata": {},
   "source": [
    "## Recommender Using Energy. "
   ]
  },
  {
   "cell_type": "code",
   "execution_count": 7,
   "id": "7a68d223-0507-48c7-88bb-674577981c72",
   "metadata": {
    "tags": []
   },
   "outputs": [
    {
     "name": "stdin",
     "output_type": "stream",
     "text": [
      "Please enter how energetic you are feeling(between 1 and 100):  72\n"
     ]
    },
    {
     "name": "stdout",
     "output_type": "stream",
     "text": [
      "Top 10 Here is your playlist for your current energy level, 72.0:\n",
      "                        song title          artist  energy\n",
      "523         Mood (feat. iann dior)        24kGoldn      72\n",
      "1249                Gimme a Second     Saliva Grey      72\n",
      "995     Anti-Hero - ILLENIUM Remix    Taylor Swift      72\n",
      "896   Music For a Sushi Restaurant    Harry Styles      72\n",
      "412                      un x100to  Grupo Frontera      72\n",
      "1141              Tití Me Preguntó       Bad Bunny      72\n",
      "103                   Four By Five     McCoy Tyner      72\n",
      "471                            S91         KAROL G      72\n",
      "919                            Run     OneRepublic      72\n",
      "938            Special (feat. SZA)           Lizzo      72\n"
     ]
    }
   ],
   "source": [
    "# Recommender function for energy.\n",
    "def recommend_songs_by_energy(input_energy, num_recommendations=10):\n",
    "    rec['energy_difference'] = np.abs(rec['energy'] - input_energy)\n",
    "    rec_sorted = rec.sort_values('energy_difference')\n",
    "    top_recommendations = rec_sorted.head(num_recommendations)\n",
    "    return top_recommendations\n",
    "\n",
    "# User input for energy.\n",
    "input_energy = float(input(\"Please enter how energetic you are feeling(between 1 and 100): \"))\n",
    "\n",
    "# Get song recommendations based on the input energy value\n",
    "recommendations = recommend_songs_by_energy(input_energy)\n",
    "\n",
    "# Display the top recommended songs\n",
    "print(f\"Top {len(recommendations)} Here is your playlist for your current energy level, {input_energy}:\")\n",
    "print(recommendations[['song title', 'artist', 'energy']])"
   ]
  }
 ],
 "metadata": {
  "kernelspec": {
   "display_name": "Python [conda env:dsi] *",
   "language": "python",
   "name": "conda-env-dsi-py"
  },
  "language_info": {
   "codemirror_mode": {
    "name": "ipython",
    "version": 3
   },
   "file_extension": ".py",
   "mimetype": "text/x-python",
   "name": "python",
   "nbconvert_exporter": "python",
   "pygments_lexer": "ipython3",
   "version": "3.8.16"
  }
 },
 "nbformat": 4,
 "nbformat_minor": 5
}
