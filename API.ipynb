{
 "cells": [
  {
   "cell_type": "markdown",
   "id": "02fcdd12-fbc6-408b-9d6f-616f1f544ae4",
   "metadata": {},
   "source": [
    "## Connecting the Spotify API\n",
    "\n",
    "+ Used the wrapper tutorial for following the connection.\n",
    "https://github.com/spotipy-dev/spotipy/blob/master/TUTORIAL.md"
   ]
  },
  {
   "cell_type": "code",
   "execution_count": 1,
   "id": "d1e82155-5fe1-48a5-8ebb-698b58c3e0b7",
   "metadata": {},
   "outputs": [
    {
     "ename": "SyntaxError",
     "evalue": "invalid syntax (1041080395.py, line 1)",
     "output_type": "error",
     "traceback": [
      "\u001b[0;36m  Cell \u001b[0;32mIn[1], line 1\u001b[0;36m\u001b[0m\n\u001b[0;31m    second try\u001b[0m\n\u001b[0m           ^\u001b[0m\n\u001b[0;31mSyntaxError\u001b[0m\u001b[0;31m:\u001b[0m invalid syntax\n"
     ]
    }
   ],
   "source": [
    "second try"
   ]
  },
  {
   "cell_type": "markdown",
   "id": "f70a6bd2-9b69-4e74-90cb-c4d017ee0683",
   "metadata": {},
   "source": [
    "let this be the last test"
   ]
  },
  {
   "cell_type": "code",
   "execution_count": 2,
   "id": "966bf73c-b9e3-4b44-8428-85ce58f808a9",
   "metadata": {},
   "outputs": [],
   "source": [
    "two = 1 + 1 "
   ]
  },
  {
   "cell_type": "code",
   "execution_count": 3,
   "id": "0317589b-9d2d-44dc-9b3a-167cfe0499d2",
   "metadata": {},
   "outputs": [
    {
     "data": {
      "text/plain": [
       "2"
      ]
     },
     "execution_count": 3,
     "metadata": {},
     "output_type": "execute_result"
    }
   ],
   "source": [
    "two"
   ]
  },
  {
   "cell_type": "code",
   "execution_count": null,
   "id": "a05f406d-af5e-475e-bac8-13334ffc4de1",
   "metadata": {},
   "outputs": [],
   "source": []
  }
 ],
 "metadata": {
  "kernelspec": {
   "display_name": "Python 3 (ipykernel)",
   "language": "python",
   "name": "python3"
  },
  "language_info": {
   "codemirror_mode": {
    "name": "ipython",
    "version": 3
   },
   "file_extension": ".py",
   "mimetype": "text/x-python",
   "name": "python",
   "nbconvert_exporter": "python",
   "pygments_lexer": "ipython3",
   "version": "3.10.9"
  }
 },
 "nbformat": 4,
 "nbformat_minor": 5
}
