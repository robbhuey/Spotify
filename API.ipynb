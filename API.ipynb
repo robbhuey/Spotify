{
 "cells": [
  {
   "cell_type": "markdown",
   "id": "02fcdd12-fbc6-408b-9d6f-616f1f544ae4",
   "metadata": {},
   "source": [
    "## Connecting the Spotify API\n",
    "\n",
    "+ Used the wrapper tutorial for following the connection.\n",
    "https://github.com/spotipy-dev/spotipy/blob/master/TUTORIAL.md"
   ]
  },
  {
   "cell_type": "code",
   "execution_count": 1,
   "id": "d1e82155-5fe1-48a5-8ebb-698b58c3e0b7",
   "metadata": {},
   "outputs": [
    {
     "ename": "SyntaxError",
     "evalue": "invalid syntax (1041080395.py, line 1)",
     "output_type": "error",
     "traceback": [
      "\u001b[0;36m  Cell \u001b[0;32mIn[1], line 1\u001b[0;36m\u001b[0m\n\u001b[0;31m    second try\u001b[0m\n\u001b[0m           ^\u001b[0m\n\u001b[0;31mSyntaxError\u001b[0m\u001b[0;31m:\u001b[0m invalid syntax\n"
     ]
    }
   ],
   "source": [
    "second try"
   ]
  },
  {
   "cell_type": "code",
   "execution_count": null,
   "id": "09112619-a5f3-4d5a-94ec-263bb1f2eb4e",
   "metadata": {},
   "outputs": [],
   "source": []
  }
 ],
 "metadata": {
  "kernelspec": {
   "display_name": "Python [conda env:dsi] *",
   "language": "python",
   "name": "conda-env-dsi-py"
  },
  "language_info": {
   "codemirror_mode": {
    "name": "ipython",
    "version": 3
   },
   "file_extension": ".py",
   "mimetype": "text/x-python",
   "name": "python",
   "nbconvert_exporter": "python",
   "pygments_lexer": "ipython3",
   "version": "3.8.16"
  }
 },
 "nbformat": 4,
 "nbformat_minor": 5
}
