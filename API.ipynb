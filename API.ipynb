{
 "cells": [
  {
   "cell_type": "markdown",
   "id": "02fcdd12-fbc6-408b-9d6f-616f1f544ae4",
   "metadata": {},
   "source": [
    "## Connecting the Spotify API\n",
    "\n",
    "+ Used the wrapper tutorial for following the connection.\n",
    "https://github.com/spotipy-dev/spotipy/blob/master/TUTORIAL.md"
   ]
  },
  {
   "cell_type": "code",
   "execution_count": 1,
   "id": "d1e82155-5fe1-48a5-8ebb-698b58c3e0b7",
   "metadata": {},
   "outputs": [],
   "source": [
    "import argparse\n",
    "import logging\n",
    "\n",
    "import spotipy\n",
    "from spotipy.oauth2 import SpotifyOAuth"
   ]
  },
  {
   "cell_type": "code",
   "execution_count": 1,
   "id": "a05f406d-af5e-475e-bac8-13334ffc4de1",
   "metadata": {},
   "outputs": [
    {
     "ename": "NameError",
     "evalue": "name 'spotipy' is not defined",
     "output_type": "error",
     "traceback": [
      "\u001b[0;31m---------------------------------------------------------------------------\u001b[0m",
      "\u001b[0;31mNameError\u001b[0m                                 Traceback (most recent call last)",
      "Cell \u001b[0;32mIn[1], line 1\u001b[0m\n\u001b[0;32m----> 1\u001b[0m sp \u001b[38;5;241m=\u001b[39m \u001b[43mspotipy\u001b[49m\u001b[38;5;241m.\u001b[39mSpotify(auth_manager\u001b[38;5;241m=\u001b[39mSpotifyOAuth(client_id\u001b[38;5;241m=\u001b[39m\u001b[38;5;124m\"\u001b[39m\u001b[38;5;124mREDACTED\u001b[39m\u001b[38;5;124m\"\u001b[39m,\n\u001b[1;32m      2\u001b[0m                                                client_secret\u001b[38;5;241m=\u001b[39m\u001b[38;5;124m\"\u001b[39m\u001b[38;5;124mREDACTED\u001b[39m\u001b[38;5;124m\"\u001b[39m,\n\u001b[1;32m      3\u001b[0m                                                redirect_uri\u001b[38;5;241m=\u001b[39m\u001b[38;5;124m\"\u001b[39m\u001b[38;5;124mhttp://localhost:1234\u001b[39m\u001b[38;5;124m\"\u001b[39m,\n\u001b[1;32m      4\u001b[0m                                                scope\u001b[38;5;241m=\u001b[39m\u001b[38;5;124m\"\u001b[39m\u001b[38;5;124muser-library-read\u001b[39m\u001b[38;5;124m\"\u001b[39m))\n",
      "\u001b[0;31mNameError\u001b[0m: name 'spotipy' is not defined"
     ]
    }
   ],
   "source": [
    "sp = spotipy.Spotify(auth_manager=SpotifyOAuth(client_id=\"REDACTED\",\n",
    "                                               client_secret=\"REDACTED\",\n",
    "                                               redirect_uri=\"http://localhost:1234\",\n",
    "                                               scope=\"user-library-read\"))"
   ]
  },
  {
   "cell_type": "code",
   "execution_count": 3,
   "id": "b87dffec-ae9a-4a02-88bc-9242ceda78f5",
   "metadata": {
    "tags": []
   },
   "outputs": [
    {
     "name": "stdout",
     "output_type": "stream",
     "text": [
      "0 SLUMB  –  Reset\n"
     ]
    }
   ],
   "source": [
    "results = sp.current_user_saved_tracks()\n",
    "for idx, item in enumerate(results['items']):\n",
    "    track = item['track']\n",
    "    print(idx, track['artists'][0]['name'], \" – \", track['name'])"
   ]
  },
  {
   "cell_type": "code",
   "execution_count": 4,
   "id": "928dcc69-46d4-4424-86b7-69c356f118ff",
   "metadata": {
    "scrolled": true,
    "tags": []
   },
   "outputs": [
    {
     "data": {
      "text/plain": [
       "{'href': 'https://api.spotify.com/v1/me/tracks?offset=0&limit=1',\n",
       " 'items': [{'added_at': '2023-09-07T23:10:43Z',\n",
       "   'track': {'album': {'album_type': 'single',\n",
       "     'artists': [{'external_urls': {'spotify': 'https://open.spotify.com/artist/6hor5Z5MgstThX50apWIpl'},\n",
       "       'href': 'https://api.spotify.com/v1/artists/6hor5Z5MgstThX50apWIpl',\n",
       "       'id': '6hor5Z5MgstThX50apWIpl',\n",
       "       'name': 'SLUMB',\n",
       "       'type': 'artist',\n",
       "       'uri': 'spotify:artist:6hor5Z5MgstThX50apWIpl'},\n",
       "      {'external_urls': {'spotify': 'https://open.spotify.com/artist/7abaqPX14i31AxrQ3lFQgv'},\n",
       "       'href': 'https://api.spotify.com/v1/artists/7abaqPX14i31AxrQ3lFQgv',\n",
       "       'id': '7abaqPX14i31AxrQ3lFQgv',\n",
       "       'name': 'Senbeï',\n",
       "       'type': 'artist',\n",
       "       'uri': 'spotify:artist:7abaqPX14i31AxrQ3lFQgv'}],\n",
       "     'external_urls': {'spotify': 'https://open.spotify.com/album/6CeO0pn7ykuGrriRYNz2Pe'},\n",
       "     'href': 'https://api.spotify.com/v1/albums/6CeO0pn7ykuGrriRYNz2Pe',\n",
       "     'id': '6CeO0pn7ykuGrriRYNz2Pe',\n",
       "     'images': [{'height': 640,\n",
       "       'url': 'https://i.scdn.co/image/ab67616d0000b27320fd007c8ae6c6f7a449bd87',\n",
       "       'width': 640},\n",
       "      {'height': 300,\n",
       "       'url': 'https://i.scdn.co/image/ab67616d00001e0220fd007c8ae6c6f7a449bd87',\n",
       "       'width': 300},\n",
       "      {'height': 64,\n",
       "       'url': 'https://i.scdn.co/image/ab67616d0000485120fd007c8ae6c6f7a449bd87',\n",
       "       'width': 64}],\n",
       "     'is_playable': True,\n",
       "     'name': 'Reset',\n",
       "     'release_date': '2020-04-24',\n",
       "     'release_date_precision': 'day',\n",
       "     'total_tracks': 1,\n",
       "     'type': 'album',\n",
       "     'uri': 'spotify:album:6CeO0pn7ykuGrriRYNz2Pe'},\n",
       "    'artists': [{'external_urls': {'spotify': 'https://open.spotify.com/artist/6hor5Z5MgstThX50apWIpl'},\n",
       "      'href': 'https://api.spotify.com/v1/artists/6hor5Z5MgstThX50apWIpl',\n",
       "      'id': '6hor5Z5MgstThX50apWIpl',\n",
       "      'name': 'SLUMB',\n",
       "      'type': 'artist',\n",
       "      'uri': 'spotify:artist:6hor5Z5MgstThX50apWIpl'},\n",
       "     {'external_urls': {'spotify': 'https://open.spotify.com/artist/7abaqPX14i31AxrQ3lFQgv'},\n",
       "      'href': 'https://api.spotify.com/v1/artists/7abaqPX14i31AxrQ3lFQgv',\n",
       "      'id': '7abaqPX14i31AxrQ3lFQgv',\n",
       "      'name': 'Senbeï',\n",
       "      'type': 'artist',\n",
       "      'uri': 'spotify:artist:7abaqPX14i31AxrQ3lFQgv'},\n",
       "     {'external_urls': {'spotify': 'https://open.spotify.com/artist/5VGsR5wapeJIuRPX26IeGn'},\n",
       "      'href': 'https://api.spotify.com/v1/artists/5VGsR5wapeJIuRPX26IeGn',\n",
       "      'id': '5VGsR5wapeJIuRPX26IeGn',\n",
       "      'name': 'Ed Tullett',\n",
       "      'type': 'artist',\n",
       "      'uri': 'spotify:artist:5VGsR5wapeJIuRPX26IeGn'}],\n",
       "    'disc_number': 1,\n",
       "    'duration_ms': 216880,\n",
       "    'explicit': False,\n",
       "    'external_ids': {'isrc': 'FRPHC2000005'},\n",
       "    'external_urls': {'spotify': 'https://open.spotify.com/track/2BM5eTPTyvSRZ4GANMn9bp'},\n",
       "    'href': 'https://api.spotify.com/v1/tracks/2BM5eTPTyvSRZ4GANMn9bp',\n",
       "    'id': '2BM5eTPTyvSRZ4GANMn9bp',\n",
       "    'is_local': False,\n",
       "    'is_playable': True,\n",
       "    'name': 'Reset',\n",
       "    'popularity': 35,\n",
       "    'preview_url': 'https://p.scdn.co/mp3-preview/97d55d3010453b4051f356702923b5cbcd638143?cid=90cf71ad48944f9e871dfcbaa0f06509',\n",
       "    'track_number': 1,\n",
       "    'type': 'track',\n",
       "    'uri': 'spotify:track:2BM5eTPTyvSRZ4GANMn9bp'}}],\n",
       " 'limit': 1,\n",
       " 'next': None,\n",
       " 'offset': 0,\n",
       " 'previous': None,\n",
       " 'total': 1}"
      ]
     },
     "execution_count": 4,
     "metadata": {},
     "output_type": "execute_result"
    }
   ],
   "source": [
    "sp.current_user_saved_tracks(limit = 1, offset = 0, market = 'AZ')"
   ]
  },
  {
   "cell_type": "code",
   "execution_count": null,
   "id": "64237826-7244-4aba-86b5-bdb13c36b3d9",
   "metadata": {
    "tags": []
   },
   "outputs": [],
   "source": []
  },
  {
   "cell_type": "markdown",
   "id": "b3c3b8d7-65ac-4b05-815a-298a91ee81ed",
   "metadata": {},
   "source": [
    "## URI is the end tag on the artist page on spotify."
   ]
  },
  {
   "cell_type": "code",
   "execution_count": 5,
   "id": "4dcf4364-1327-4151-88c2-d9ea32caa87e",
   "metadata": {},
   "outputs": [],
   "source": [
    "taylor_uri = 'spotify:artist:06HL4z0CvFAxyc27GXpf02'"
   ]
  },
  {
   "cell_type": "code",
   "execution_count": 6,
   "id": "6d271c48-def9-4ba7-be53-681af0a60bff",
   "metadata": {},
   "outputs": [
    {
     "name": "stdout",
     "output_type": "stream",
     "text": [
      "Speak Now (Taylor's Version)\n",
      "Midnights (The Til Dawn Edition)\n",
      "Midnights (3am Edition)\n",
      "Midnights\n",
      "Red (Taylor's Version)\n",
      "Fearless (Taylor's Version)\n",
      "evermore (deluxe version)\n",
      "evermore\n",
      "folklore: the long pond studio sessions (from the Disney+ special) [deluxe edition]\n",
      "folklore (deluxe version)\n",
      "folklore\n",
      "Lover\n",
      "reputation\n",
      "reputation Stadium Tour Surprise Song Playlist\n",
      "1989 (Deluxe Edition)\n",
      "1989\n",
      "Red (Deluxe Edition)\n",
      "Red\n",
      "Speak Now World Tour Live\n",
      "Speak Now (Deluxe Edition)\n",
      "Speak Now\n",
      "Fearless Platinum Edition\n",
      "Fearless\n",
      "Live From Clear Channel Stripped 2008\n",
      "Taylor Swift\n"
     ]
    }
   ],
   "source": [
    "results = sp.artist_albums(taylor_uri, album_type='album')\n",
    "albums = results['items']\n",
    "while results['next']:\n",
    "    results = sp.next(results)\n",
    "    albums.extend(results['items'])\n",
    "\n",
    "for album in albums:\n",
    "    print(album['name'])"
   ]
  },
  {
   "cell_type": "code",
   "execution_count": 7,
   "id": "5d20af7b-5ff5-4af8-9bae-6b8c45d3b42e",
   "metadata": {
    "tags": []
   },
   "outputs": [],
   "source": [
    "nf_uri = 'spotify:artist:6fOMl44jA4Sp5b9PpYCkzz'"
   ]
  },
  {
   "cell_type": "code",
   "execution_count": 8,
   "id": "55ee61b3-f43d-40ce-ba90-9f483b1671f5",
   "metadata": {
    "tags": []
   },
   "outputs": [
    {
     "data": {
      "text/plain": [
       "{'external_urls': {'spotify': 'https://open.spotify.com/artist/6fOMl44jA4Sp5b9PpYCkzz'},\n",
       " 'followers': {'href': None, 'total': 8935693},\n",
       " 'genres': ['hip hop', 'pop rap'],\n",
       " 'href': 'https://api.spotify.com/v1/artists/6fOMl44jA4Sp5b9PpYCkzz',\n",
       " 'id': '6fOMl44jA4Sp5b9PpYCkzz',\n",
       " 'images': [{'height': 640,\n",
       "   'url': 'https://i.scdn.co/image/ab6761610000e5eb1cf142a710a2f3d9b7a62da1',\n",
       "   'width': 640},\n",
       "  {'height': 320,\n",
       "   'url': 'https://i.scdn.co/image/ab676161000051741cf142a710a2f3d9b7a62da1',\n",
       "   'width': 320},\n",
       "  {'height': 160,\n",
       "   'url': 'https://i.scdn.co/image/ab6761610000f1781cf142a710a2f3d9b7a62da1',\n",
       "   'width': 160}],\n",
       " 'name': 'NF',\n",
       " 'popularity': 79,\n",
       " 'type': 'artist',\n",
       " 'uri': 'spotify:artist:6fOMl44jA4Sp5b9PpYCkzz'}"
      ]
     },
     "execution_count": 8,
     "metadata": {},
     "output_type": "execute_result"
    }
   ],
   "source": [
    "sp.artist('6fOMl44jA4Sp5b9PpYCkzz')"
   ]
  },
  {
   "cell_type": "markdown",
   "id": "0138a72c-11fa-4e08-bc94-4d759fa6853f",
   "metadata": {},
   "source": [
    "## Going and looking at the functions in the documentation.\n",
    "\n",
    "+ https://spotipy.readthedocs.io/en/2.22.1/"
   ]
  },
  {
   "cell_type": "markdown",
   "id": "cfda7766-b827-43e5-aa11-b2484c9b5d4a",
   "metadata": {},
   "source": [
    "+ album has market which will give an ISO 3166-1 alpha-2 country code\n",
    "+ "
   ]
  },
  {
   "cell_type": "code",
   "execution_count": 9,
   "id": "d0f9b4c9-483e-4e10-953e-a8800cb5e74b",
   "metadata": {
    "scrolled": true,
    "tags": []
   },
   "outputs": [
    {
     "data": {
      "text/plain": [
       "{'categories': {'href': 'https://api.spotify.com/v1/browse/categories?country=US&offset=0&limit=20',\n",
       "  'items': [{'href': 'https://api.spotify.com/v1/browse/categories/toplists',\n",
       "    'icons': [{'height': 275,\n",
       "      'url': 'https://t.scdn.co/media/derived/toplists_11160599e6a04ac5d6f2757f5511778f_0_0_275_275.jpg',\n",
       "      'width': 275}],\n",
       "    'id': 'toplists',\n",
       "    'name': 'Top Lists'},\n",
       "   {'href': 'https://api.spotify.com/v1/browse/categories/0JQ5DAqbMKFQ00XGBls6ym',\n",
       "    'icons': [{'height': 274,\n",
       "      'url': 'https://t.scdn.co/media/original/hip-274_0a661854d61e29eace5fe63f73495e68_274x274.jpg',\n",
       "      'width': 274}],\n",
       "    'id': '0JQ5DAqbMKFQ00XGBls6ym',\n",
       "    'name': 'Hip-Hop'},\n",
       "   {'href': 'https://api.spotify.com/v1/browse/categories/0JQ5DAqbMKFEC4WFtoNRpw',\n",
       "    'icons': [{'height': 274,\n",
       "      'url': 'https://t.scdn.co/media/derived/pop-274x274_447148649685019f5e2a03a39e78ba52_0_0_274_274.jpg',\n",
       "      'width': 274}],\n",
       "    'id': '0JQ5DAqbMKFEC4WFtoNRpw',\n",
       "    'name': 'Pop'},\n",
       "   {'href': 'https://api.spotify.com/v1/browse/categories/0JQ5DAqbMKFKLfwjuJMoNC',\n",
       "    'icons': [{'height': None,\n",
       "      'url': 'https://t.scdn.co/images/a2e0ebe2ebed4566ba1d8236b869241f.jpeg',\n",
       "      'width': None}],\n",
       "    'id': '0JQ5DAqbMKFKLfwjuJMoNC',\n",
       "    'name': 'Country'},\n",
       "   {'href': 'https://api.spotify.com/v1/browse/categories/0JQ5DAqbMKFxXaXKP7zcDp',\n",
       "    'icons': [{'height': None,\n",
       "      'url': 'https://t.scdn.co/images/26a60378-a374-4cd7-b894-28efa5e154cb.jpg',\n",
       "      'width': None}],\n",
       "    'id': '0JQ5DAqbMKFxXaXKP7zcDp',\n",
       "    'name': 'Latin'},\n",
       "   {'href': 'https://api.spotify.com/v1/browse/categories/0JQ5DAqbMKFDXXwE9BDJAr',\n",
       "    'icons': [{'height': 274,\n",
       "      'url': 'https://t.scdn.co/media/derived/rock_9ce79e0a4ef901bbd10494f5b855d3cc_0_0_274_274.jpg',\n",
       "      'width': 274}],\n",
       "    'id': '0JQ5DAqbMKFDXXwE9BDJAr',\n",
       "    'name': 'Rock'},\n",
       "   {'href': 'https://api.spotify.com/v1/browse/categories/0JQ5DAqbMKFLVaM30PMBm4',\n",
       "    'icons': [{'height': None,\n",
       "      'url': 'https://t.scdn.co/images/8e508d7eb5b843a89c368c9507ecc429.jpeg',\n",
       "      'width': None}],\n",
       "    'id': '0JQ5DAqbMKFLVaM30PMBm4',\n",
       "    'name': 'Summer'},\n",
       "   {'href': 'https://api.spotify.com/v1/browse/categories/0JQ5DAqbMKFAXlCG6QvYQ4',\n",
       "    'icons': [{'height': None,\n",
       "      'url': 'https://t.scdn.co/media/links/workout-274x274.jpg',\n",
       "      'width': None}],\n",
       "    'id': '0JQ5DAqbMKFAXlCG6QvYQ4',\n",
       "    'name': 'Workout'},\n",
       "   {'href': 'https://api.spotify.com/v1/browse/categories/0JQ5DAqbMKFEZPnFQSFB1T',\n",
       "    'icons': [{'height': 274,\n",
       "      'url': 'https://t.scdn.co/media/derived/r-b-274x274_fd56efa72f4f63764b011b68121581d8_0_0_274_274.jpg',\n",
       "      'width': 274}],\n",
       "    'id': '0JQ5DAqbMKFEZPnFQSFB1T',\n",
       "    'name': 'R&B'},\n",
       "   {'href': 'https://api.spotify.com/v1/browse/categories/0JQ5DAqbMKFHOzuVTgTizF',\n",
       "    'icons': [{'height': 274,\n",
       "      'url': 'https://t.scdn.co/media/derived/edm-274x274_0ef612604200a9c14995432994455a6d_0_0_274_274.jpg',\n",
       "      'width': 274}],\n",
       "    'id': '0JQ5DAqbMKFHOzuVTgTizF',\n",
       "    'name': 'Dance/Electronic'},\n",
       "   {'href': 'https://api.spotify.com/v1/browse/categories/0JQ5DAqbMKFEOEBCABAxo9',\n",
       "    'icons': [{'height': None,\n",
       "      'url': 'https://t.scdn.co/images/1a416fb97f5647858c7f09c9cb6e7301',\n",
       "      'width': None}],\n",
       "    'id': '0JQ5DAqbMKFEOEBCABAxo9',\n",
       "    'name': 'Netflix'},\n",
       "   {'href': 'https://api.spotify.com/v1/browse/categories/0JQ5DAqbMKFCWjUTdzaG0e',\n",
       "    'icons': [{'height': None,\n",
       "      'url': 'https://t.scdn.co/images/fe06caf056474bc58862591cd60b57fc.jpeg',\n",
       "      'width': None}],\n",
       "    'id': '0JQ5DAqbMKFCWjUTdzaG0e',\n",
       "    'name': 'Indie'},\n",
       "   {'href': 'https://api.spotify.com/v1/browse/categories/0JQ5DAqbMKFzHmL4tf05da',\n",
       "    'icons': [{'height': 274,\n",
       "      'url': 'https://t.scdn.co/media/original/mood-274x274_976986a31ac8c49794cbdc7246fd5ad7_274x274.jpg',\n",
       "      'width': 274}],\n",
       "    'id': '0JQ5DAqbMKFzHmL4tf05da',\n",
       "    'name': 'Mood'},\n",
       "   {'href': 'https://api.spotify.com/v1/browse/categories/0JQ5DAqbMKFCuoRTxhYWow',\n",
       "    'icons': [{'height': 274,\n",
       "      'url': 'https://t.scdn.co/media/derived/sleep-274x274_0d4f836af8fab7bf31526968073e671c_0_0_274_274.jpg',\n",
       "      'width': 274}],\n",
       "    'id': '0JQ5DAqbMKFCuoRTxhYWow',\n",
       "    'name': 'Sleep'},\n",
       "   {'href': 'https://api.spotify.com/v1/browse/categories/0JQ5DAqbMKFy0OenPG51Av',\n",
       "    'icons': [{'height': None,\n",
       "      'url': 'https://t.scdn.co/images/e023f691436b4518aec8c3b18973268e',\n",
       "      'width': None}],\n",
       "    'id': '0JQ5DAqbMKFy0OenPG51Av',\n",
       "    'name': 'Christian & Gospel'},\n",
       "   {'href': 'https://api.spotify.com/v1/browse/categories/0JQ5DAqbMKFDTEtSaS4R92',\n",
       "    'icons': [{'height': None,\n",
       "      'url': 'https://t.scdn.co/images/c765fa1ce6994fce8796d2d0d93c1e61.jpeg',\n",
       "      'width': None}],\n",
       "    'id': '0JQ5DAqbMKFDTEtSaS4R92',\n",
       "    'name': 'Regional Mexican'},\n",
       "   {'href': 'https://api.spotify.com/v1/browse/categories/0JQ5DAqbMKFLb2EqgLtpjC',\n",
       "    'icons': [{'height': None,\n",
       "      'url': 'https://t.scdn.co/images/3710b68657574bc79df14bd74629e5ac',\n",
       "      'width': None}],\n",
       "    'id': '0JQ5DAqbMKFLb2EqgLtpjC',\n",
       "    'name': 'Wellness'},\n",
       "   {'href': 'https://api.spotify.com/v1/browse/categories/0JQ5DAqbMKFFzDl7qN9Apr',\n",
       "    'icons': [{'height': 274,\n",
       "      'url': 'https://t.scdn.co/media/derived/chill-274x274_4c46374f007813dd10b37e8d8fd35b4b_0_0_274_274.jpg',\n",
       "      'width': 274}],\n",
       "    'id': '0JQ5DAqbMKFFzDl7qN9Apr',\n",
       "    'name': 'Chill'},\n",
       "   {'href': 'https://api.spotify.com/v1/browse/categories/0JQ5DAqbMKFPw634sFwguI',\n",
       "    'icons': [{'height': None,\n",
       "      'url': 'https://t.scdn.co/images/084155aeaa724ea1bd393a017d67b709',\n",
       "      'width': None}],\n",
       "    'id': '0JQ5DAqbMKFPw634sFwguI',\n",
       "    'name': 'EQUAL'},\n",
       "   {'href': 'https://api.spotify.com/v1/browse/categories/0JQ5DAqbMKFCfObibaOZbv',\n",
       "    'icons': [{'height': None,\n",
       "      'url': 'https://t.scdn.co/images/0d39395309ba47838ef12ce987f19d16.jpeg',\n",
       "      'width': None}],\n",
       "    'id': '0JQ5DAqbMKFCfObibaOZbv',\n",
       "    'name': 'Gaming'}],\n",
       "  'limit': 20,\n",
       "  'next': 'https://api.spotify.com/v1/browse/categories?country=US&offset=20&limit=20',\n",
       "  'offset': 0,\n",
       "  'previous': None,\n",
       "  'total': 52}}"
      ]
     },
     "execution_count": 9,
     "metadata": {},
     "output_type": "execute_result"
    }
   ],
   "source": [
    "sp.categories()"
   ]
  },
  {
   "cell_type": "code",
   "execution_count": 10,
   "id": "87bae989-aae9-44d6-8244-729aaeefc46d",
   "metadata": {
    "scrolled": true,
    "tags": []
   },
   "outputs": [
    {
     "data": {
      "text/plain": [
       "{'markets': ['AD',\n",
       "  'AE',\n",
       "  'AG',\n",
       "  'AL',\n",
       "  'AM',\n",
       "  'AO',\n",
       "  'AR',\n",
       "  'AT',\n",
       "  'AU',\n",
       "  'AZ',\n",
       "  'BA',\n",
       "  'BB',\n",
       "  'BD',\n",
       "  'BE',\n",
       "  'BF',\n",
       "  'BG',\n",
       "  'BH',\n",
       "  'BI',\n",
       "  'BJ',\n",
       "  'BN',\n",
       "  'BO',\n",
       "  'BR',\n",
       "  'BS',\n",
       "  'BT',\n",
       "  'BW',\n",
       "  'BY',\n",
       "  'BZ',\n",
       "  'CA',\n",
       "  'CD',\n",
       "  'CG',\n",
       "  'CH',\n",
       "  'CI',\n",
       "  'CL',\n",
       "  'CM',\n",
       "  'CO',\n",
       "  'CR',\n",
       "  'CV',\n",
       "  'CW',\n",
       "  'CY',\n",
       "  'CZ',\n",
       "  'DE',\n",
       "  'DJ',\n",
       "  'DK',\n",
       "  'DM',\n",
       "  'DO',\n",
       "  'DZ',\n",
       "  'EC',\n",
       "  'EE',\n",
       "  'EG',\n",
       "  'ES',\n",
       "  'ET',\n",
       "  'FI',\n",
       "  'FJ',\n",
       "  'FM',\n",
       "  'FR',\n",
       "  'GA',\n",
       "  'GB',\n",
       "  'GD',\n",
       "  'GE',\n",
       "  'GH',\n",
       "  'GM',\n",
       "  'GN',\n",
       "  'GQ',\n",
       "  'GR',\n",
       "  'GT',\n",
       "  'GW',\n",
       "  'GY',\n",
       "  'HK',\n",
       "  'HN',\n",
       "  'HR',\n",
       "  'HT',\n",
       "  'HU',\n",
       "  'ID',\n",
       "  'IE',\n",
       "  'IL',\n",
       "  'IN',\n",
       "  'IQ',\n",
       "  'IS',\n",
       "  'IT',\n",
       "  'JM',\n",
       "  'JO',\n",
       "  'JP',\n",
       "  'KE',\n",
       "  'KG',\n",
       "  'KH',\n",
       "  'KI',\n",
       "  'KM',\n",
       "  'KN',\n",
       "  'KR',\n",
       "  'KW',\n",
       "  'KZ',\n",
       "  'LA',\n",
       "  'LB',\n",
       "  'LC',\n",
       "  'LI',\n",
       "  'LK',\n",
       "  'LR',\n",
       "  'LS',\n",
       "  'LT',\n",
       "  'LU',\n",
       "  'LV',\n",
       "  'LY',\n",
       "  'MA',\n",
       "  'MC',\n",
       "  'MD',\n",
       "  'ME',\n",
       "  'MG',\n",
       "  'MH',\n",
       "  'MK',\n",
       "  'ML',\n",
       "  'MN',\n",
       "  'MO',\n",
       "  'MR',\n",
       "  'MT',\n",
       "  'MU',\n",
       "  'MV',\n",
       "  'MW',\n",
       "  'MX',\n",
       "  'MY',\n",
       "  'MZ',\n",
       "  'NA',\n",
       "  'NE',\n",
       "  'NG',\n",
       "  'NI',\n",
       "  'NL',\n",
       "  'NO',\n",
       "  'NP',\n",
       "  'NR',\n",
       "  'NZ',\n",
       "  'OM',\n",
       "  'PA',\n",
       "  'PE',\n",
       "  'PG',\n",
       "  'PH',\n",
       "  'PK',\n",
       "  'PL',\n",
       "  'PS',\n",
       "  'PT',\n",
       "  'PW',\n",
       "  'PY',\n",
       "  'QA',\n",
       "  'RO',\n",
       "  'RS',\n",
       "  'RW',\n",
       "  'SA',\n",
       "  'SB',\n",
       "  'SC',\n",
       "  'SE',\n",
       "  'SG',\n",
       "  'SI',\n",
       "  'SK',\n",
       "  'SL',\n",
       "  'SM',\n",
       "  'SN',\n",
       "  'SR',\n",
       "  'ST',\n",
       "  'SV',\n",
       "  'SZ',\n",
       "  'TD',\n",
       "  'TG',\n",
       "  'TH',\n",
       "  'TJ',\n",
       "  'TL',\n",
       "  'TN',\n",
       "  'TO',\n",
       "  'TR',\n",
       "  'TT',\n",
       "  'TV',\n",
       "  'TW',\n",
       "  'TZ',\n",
       "  'UA',\n",
       "  'UG',\n",
       "  'US',\n",
       "  'UY',\n",
       "  'UZ',\n",
       "  'VC',\n",
       "  'VE',\n",
       "  'VN',\n",
       "  'VU',\n",
       "  'WS',\n",
       "  'XK',\n",
       "  'ZA',\n",
       "  'ZM',\n",
       "  'ZW']}"
      ]
     },
     "execution_count": 10,
     "metadata": {},
     "output_type": "execute_result"
    }
   ],
   "source": [
    "sp.available_markets()"
   ]
  },
  {
   "cell_type": "code",
   "execution_count": 11,
   "id": "3ed482bc-8761-409d-93b2-9b3f49119fc9",
   "metadata": {
    "tags": []
   },
   "outputs": [],
   "source": [
    "#sp.me()"
   ]
  },
  {
   "cell_type": "code",
   "execution_count": 12,
   "id": "2aae3730-6b14-4a33-a9e4-7e3e2f2398d1",
   "metadata": {
    "tags": []
   },
   "outputs": [],
   "source": [
    "#sp.current_user_recently_played(limit = 5, after = None, before = None)"
   ]
  },
  {
   "cell_type": "code",
   "execution_count": 13,
   "id": "09acad88-1e7c-4ef1-a0f9-7b73b1c989a7",
   "metadata": {
    "scrolled": true,
    "tags": []
   },
   "outputs": [
    {
     "data": {
      "text/plain": [
       "{'genres': ['acoustic',\n",
       "  'afrobeat',\n",
       "  'alt-rock',\n",
       "  'alternative',\n",
       "  'ambient',\n",
       "  'anime',\n",
       "  'black-metal',\n",
       "  'bluegrass',\n",
       "  'blues',\n",
       "  'bossanova',\n",
       "  'brazil',\n",
       "  'breakbeat',\n",
       "  'british',\n",
       "  'cantopop',\n",
       "  'chicago-house',\n",
       "  'children',\n",
       "  'chill',\n",
       "  'classical',\n",
       "  'club',\n",
       "  'comedy',\n",
       "  'country',\n",
       "  'dance',\n",
       "  'dancehall',\n",
       "  'death-metal',\n",
       "  'deep-house',\n",
       "  'detroit-techno',\n",
       "  'disco',\n",
       "  'disney',\n",
       "  'drum-and-bass',\n",
       "  'dub',\n",
       "  'dubstep',\n",
       "  'edm',\n",
       "  'electro',\n",
       "  'electronic',\n",
       "  'emo',\n",
       "  'folk',\n",
       "  'forro',\n",
       "  'french',\n",
       "  'funk',\n",
       "  'garage',\n",
       "  'german',\n",
       "  'gospel',\n",
       "  'goth',\n",
       "  'grindcore',\n",
       "  'groove',\n",
       "  'grunge',\n",
       "  'guitar',\n",
       "  'happy',\n",
       "  'hard-rock',\n",
       "  'hardcore',\n",
       "  'hardstyle',\n",
       "  'heavy-metal',\n",
       "  'hip-hop',\n",
       "  'holidays',\n",
       "  'honky-tonk',\n",
       "  'house',\n",
       "  'idm',\n",
       "  'indian',\n",
       "  'indie',\n",
       "  'indie-pop',\n",
       "  'industrial',\n",
       "  'iranian',\n",
       "  'j-dance',\n",
       "  'j-idol',\n",
       "  'j-pop',\n",
       "  'j-rock',\n",
       "  'jazz',\n",
       "  'k-pop',\n",
       "  'kids',\n",
       "  'latin',\n",
       "  'latino',\n",
       "  'malay',\n",
       "  'mandopop',\n",
       "  'metal',\n",
       "  'metal-misc',\n",
       "  'metalcore',\n",
       "  'minimal-techno',\n",
       "  'movies',\n",
       "  'mpb',\n",
       "  'new-age',\n",
       "  'new-release',\n",
       "  'opera',\n",
       "  'pagode',\n",
       "  'party',\n",
       "  'philippines-opm',\n",
       "  'piano',\n",
       "  'pop',\n",
       "  'pop-film',\n",
       "  'post-dubstep',\n",
       "  'power-pop',\n",
       "  'progressive-house',\n",
       "  'psych-rock',\n",
       "  'punk',\n",
       "  'punk-rock',\n",
       "  'r-n-b',\n",
       "  'rainy-day',\n",
       "  'reggae',\n",
       "  'reggaeton',\n",
       "  'road-trip',\n",
       "  'rock',\n",
       "  'rock-n-roll',\n",
       "  'rockabilly',\n",
       "  'romance',\n",
       "  'sad',\n",
       "  'salsa',\n",
       "  'samba',\n",
       "  'sertanejo',\n",
       "  'show-tunes',\n",
       "  'singer-songwriter',\n",
       "  'ska',\n",
       "  'sleep',\n",
       "  'songwriter',\n",
       "  'soul',\n",
       "  'soundtracks',\n",
       "  'spanish',\n",
       "  'study',\n",
       "  'summer',\n",
       "  'swedish',\n",
       "  'synth-pop',\n",
       "  'tango',\n",
       "  'techno',\n",
       "  'trance',\n",
       "  'trip-hop',\n",
       "  'turkish',\n",
       "  'work-out',\n",
       "  'world-music']}"
      ]
     },
     "execution_count": 13,
     "metadata": {},
     "output_type": "execute_result"
    }
   ],
   "source": [
    "sp.recommendation_genre_seeds()"
   ]
  },
  {
   "cell_type": "code",
   "execution_count": 23,
   "id": "6230eb82-c52d-42fd-9984-2cc2c9503bb5",
   "metadata": {
    "tags": []
   },
   "outputs": [
    {
     "name": "stderr",
     "output_type": "stream",
     "text": [
      "HTTP Error for GET to https://api.spotify.com/v1/recommendations with Params: {'limit': 20, 'seed_artists': '2,u,F,U,B,d,a,V,G,t,y,M,q,c,k,S,e,C,l,0,Q,j', 'seed_genres': 'c,l,a,s,s,i,c,a,l', 'seed_tracks': '1,B,n,c,f,T,J,A,W,x,r,s,x,y,T,9,c,u,l,B,r,j'} returned 400 due to invalid request\n"
     ]
    },
    {
     "ename": "SpotifyException",
     "evalue": "http status: 400, code:-1 - https://api.spotify.com/v1/recommendations?limit=20&seed_artists=2%2Cu%2CF%2CU%2CB%2Cd%2Ca%2CV%2CG%2Ct%2Cy%2CM%2Cq%2Cc%2Ck%2CS%2Ce%2CC%2Cl%2C0%2CQ%2Cj&seed_genres=c%2Cl%2Ca%2Cs%2Cs%2Ci%2Cc%2Ca%2Cl&seed_tracks=1%2CB%2Cn%2Cc%2Cf%2CT%2CJ%2CA%2CW%2Cx%2Cr%2Cs%2Cx%2Cy%2CT%2C9%2Cc%2Cu%2Cl%2CB%2Cr%2Cj:\n invalid request, reason: None",
     "output_type": "error",
     "traceback": [
      "\u001b[0;31m---------------------------------------------------------------------------\u001b[0m",
      "\u001b[0;31mHTTPError\u001b[0m                                 Traceback (most recent call last)",
      "File \u001b[0;32m~/anaconda3/envs/dsi/lib/python3.8/site-packages/spotipy/client.py:271\u001b[0m, in \u001b[0;36mSpotify._internal_call\u001b[0;34m(self, method, url, payload, params)\u001b[0m\n\u001b[1;32m    266\u001b[0m response \u001b[38;5;241m=\u001b[39m \u001b[38;5;28mself\u001b[39m\u001b[38;5;241m.\u001b[39m_session\u001b[38;5;241m.\u001b[39mrequest(\n\u001b[1;32m    267\u001b[0m     method, url, headers\u001b[38;5;241m=\u001b[39mheaders, proxies\u001b[38;5;241m=\u001b[39m\u001b[38;5;28mself\u001b[39m\u001b[38;5;241m.\u001b[39mproxies,\n\u001b[1;32m    268\u001b[0m     timeout\u001b[38;5;241m=\u001b[39m\u001b[38;5;28mself\u001b[39m\u001b[38;5;241m.\u001b[39mrequests_timeout, \u001b[38;5;241m*\u001b[39m\u001b[38;5;241m*\u001b[39margs\n\u001b[1;32m    269\u001b[0m )\n\u001b[0;32m--> 271\u001b[0m \u001b[43mresponse\u001b[49m\u001b[38;5;241;43m.\u001b[39;49m\u001b[43mraise_for_status\u001b[49m\u001b[43m(\u001b[49m\u001b[43m)\u001b[49m\n\u001b[1;32m    272\u001b[0m results \u001b[38;5;241m=\u001b[39m response\u001b[38;5;241m.\u001b[39mjson()\n",
      "File \u001b[0;32m~/anaconda3/envs/dsi/lib/python3.8/site-packages/requests/models.py:1021\u001b[0m, in \u001b[0;36mResponse.raise_for_status\u001b[0;34m(self)\u001b[0m\n\u001b[1;32m   1020\u001b[0m \u001b[38;5;28;01mif\u001b[39;00m http_error_msg:\n\u001b[0;32m-> 1021\u001b[0m     \u001b[38;5;28;01mraise\u001b[39;00m HTTPError(http_error_msg, response\u001b[38;5;241m=\u001b[39m\u001b[38;5;28mself\u001b[39m)\n",
      "\u001b[0;31mHTTPError\u001b[0m: 400 Client Error: Bad Request for url: https://api.spotify.com/v1/recommendations?limit=20&seed_artists=2%2Cu%2CF%2CU%2CB%2Cd%2Ca%2CV%2CG%2Ct%2Cy%2CM%2Cq%2Cc%2Ck%2CS%2Ce%2CC%2Cl%2C0%2CQ%2Cj&seed_genres=c%2Cl%2Ca%2Cs%2Cs%2Ci%2Cc%2Ca%2Cl&seed_tracks=1%2CB%2Cn%2Cc%2Cf%2CT%2CJ%2CA%2CW%2Cx%2Cr%2Cs%2Cx%2Cy%2CT%2C9%2Cc%2Cu%2Cl%2CB%2Cr%2Cj",
      "\nDuring handling of the above exception, another exception occurred:\n",
      "\u001b[0;31mSpotifyException\u001b[0m                          Traceback (most recent call last)",
      "Cell \u001b[0;32mIn[23], line 1\u001b[0m\n\u001b[0;32m----> 1\u001b[0m \u001b[43msp\u001b[49m\u001b[38;5;241;43m.\u001b[39;49m\u001b[43mrecommendations\u001b[49m\u001b[43m(\u001b[49m\u001b[43mseed_artists\u001b[49m\u001b[43m \u001b[49m\u001b[38;5;241;43m=\u001b[39;49m\u001b[43m \u001b[49m\u001b[38;5;124;43m'\u001b[39;49m\u001b[38;5;124;43m2uFUBdaVGtyMqckSeCl0Qj\u001b[39;49m\u001b[38;5;124;43m'\u001b[39;49m\u001b[43m,\u001b[49m\u001b[43m \u001b[49m\u001b[43mseed_tracks\u001b[49m\u001b[43m \u001b[49m\u001b[38;5;241;43m=\u001b[39;49m\u001b[43m \u001b[49m\u001b[38;5;124;43m'\u001b[39;49m\u001b[38;5;124;43m1BncfTJAWxrsxyT9culBrj\u001b[39;49m\u001b[38;5;124;43m'\u001b[39;49m\u001b[43m,\u001b[49m\u001b[43m \u001b[49m\u001b[43mseed_genres\u001b[49m\u001b[43m \u001b[49m\u001b[38;5;241;43m=\u001b[39;49m\u001b[43m \u001b[49m\u001b[38;5;124;43m'\u001b[39;49m\u001b[38;5;124;43mclassical\u001b[39;49m\u001b[38;5;124;43m'\u001b[39;49m\u001b[43m,\u001b[49m\u001b[43m \u001b[49m\u001b[43mlimit\u001b[49m\u001b[43m \u001b[49m\u001b[38;5;241;43m=\u001b[39;49m\u001b[43m \u001b[49m\u001b[38;5;241;43m20\u001b[39;49m\u001b[43m,\u001b[49m\u001b[43m \u001b[49m\u001b[43mcountry\u001b[49m\u001b[43m \u001b[49m\u001b[38;5;241;43m=\u001b[39;49m\u001b[43m \u001b[49m\u001b[38;5;28;43;01mNone\u001b[39;49;00m\u001b[43m)\u001b[49m\n",
      "File \u001b[0;32m~/anaconda3/envs/dsi/lib/python3.8/site-packages/spotipy/client.py:1712\u001b[0m, in \u001b[0;36mSpotify.recommendations\u001b[0;34m(self, seed_artists, seed_genres, seed_tracks, limit, country, **kwargs)\u001b[0m\n\u001b[1;32m   1710\u001b[0m         \u001b[38;5;28;01mif\u001b[39;00m param \u001b[38;5;129;01min\u001b[39;00m kwargs:\n\u001b[1;32m   1711\u001b[0m             params[param] \u001b[38;5;241m=\u001b[39m kwargs[param]\n\u001b[0;32m-> 1712\u001b[0m \u001b[38;5;28;01mreturn\u001b[39;00m \u001b[38;5;28;43mself\u001b[39;49m\u001b[38;5;241;43m.\u001b[39;49m\u001b[43m_get\u001b[49m\u001b[43m(\u001b[49m\u001b[38;5;124;43m\"\u001b[39;49m\u001b[38;5;124;43mrecommendations\u001b[39;49m\u001b[38;5;124;43m\"\u001b[39;49m\u001b[43m,\u001b[49m\u001b[43m \u001b[49m\u001b[38;5;241;43m*\u001b[39;49m\u001b[38;5;241;43m*\u001b[39;49m\u001b[43mparams\u001b[49m\u001b[43m)\u001b[49m\n",
      "File \u001b[0;32m~/anaconda3/envs/dsi/lib/python3.8/site-packages/spotipy/client.py:323\u001b[0m, in \u001b[0;36mSpotify._get\u001b[0;34m(self, url, args, payload, **kwargs)\u001b[0m\n\u001b[1;32m    320\u001b[0m \u001b[38;5;28;01mif\u001b[39;00m args:\n\u001b[1;32m    321\u001b[0m     kwargs\u001b[38;5;241m.\u001b[39mupdate(args)\n\u001b[0;32m--> 323\u001b[0m \u001b[38;5;28;01mreturn\u001b[39;00m \u001b[38;5;28;43mself\u001b[39;49m\u001b[38;5;241;43m.\u001b[39;49m\u001b[43m_internal_call\u001b[49m\u001b[43m(\u001b[49m\u001b[38;5;124;43m\"\u001b[39;49m\u001b[38;5;124;43mGET\u001b[39;49m\u001b[38;5;124;43m\"\u001b[39;49m\u001b[43m,\u001b[49m\u001b[43m \u001b[49m\u001b[43murl\u001b[49m\u001b[43m,\u001b[49m\u001b[43m \u001b[49m\u001b[43mpayload\u001b[49m\u001b[43m,\u001b[49m\u001b[43m \u001b[49m\u001b[43mkwargs\u001b[49m\u001b[43m)\u001b[49m\n",
      "File \u001b[0;32m~/anaconda3/envs/dsi/lib/python3.8/site-packages/spotipy/client.py:293\u001b[0m, in \u001b[0;36mSpotify._internal_call\u001b[0;34m(self, method, url, payload, params)\u001b[0m\n\u001b[1;32m    286\u001b[0m         reason \u001b[38;5;241m=\u001b[39m \u001b[38;5;28;01mNone\u001b[39;00m\n\u001b[1;32m    288\u001b[0m     logger\u001b[38;5;241m.\u001b[39merror(\n\u001b[1;32m    289\u001b[0m         \u001b[38;5;124m'\u001b[39m\u001b[38;5;124mHTTP Error for \u001b[39m\u001b[38;5;132;01m%s\u001b[39;00m\u001b[38;5;124m to \u001b[39m\u001b[38;5;132;01m%s\u001b[39;00m\u001b[38;5;124m with Params: \u001b[39m\u001b[38;5;132;01m%s\u001b[39;00m\u001b[38;5;124m returned \u001b[39m\u001b[38;5;132;01m%s\u001b[39;00m\u001b[38;5;124m due to \u001b[39m\u001b[38;5;132;01m%s\u001b[39;00m\u001b[38;5;124m'\u001b[39m,\n\u001b[1;32m    290\u001b[0m         method, url, args\u001b[38;5;241m.\u001b[39mget(\u001b[38;5;124m\"\u001b[39m\u001b[38;5;124mparams\u001b[39m\u001b[38;5;124m\"\u001b[39m), response\u001b[38;5;241m.\u001b[39mstatus_code, msg\n\u001b[1;32m    291\u001b[0m     )\n\u001b[0;32m--> 293\u001b[0m     \u001b[38;5;28;01mraise\u001b[39;00m SpotifyException(\n\u001b[1;32m    294\u001b[0m         response\u001b[38;5;241m.\u001b[39mstatus_code,\n\u001b[1;32m    295\u001b[0m         \u001b[38;5;241m-\u001b[39m\u001b[38;5;241m1\u001b[39m,\n\u001b[1;32m    296\u001b[0m         \u001b[38;5;124m\"\u001b[39m\u001b[38;5;132;01m%s\u001b[39;00m\u001b[38;5;124m:\u001b[39m\u001b[38;5;130;01m\\n\u001b[39;00m\u001b[38;5;124m \u001b[39m\u001b[38;5;132;01m%s\u001b[39;00m\u001b[38;5;124m\"\u001b[39m \u001b[38;5;241m%\u001b[39m (response\u001b[38;5;241m.\u001b[39murl, msg),\n\u001b[1;32m    297\u001b[0m         reason\u001b[38;5;241m=\u001b[39mreason,\n\u001b[1;32m    298\u001b[0m         headers\u001b[38;5;241m=\u001b[39mresponse\u001b[38;5;241m.\u001b[39mheaders,\n\u001b[1;32m    299\u001b[0m     )\n\u001b[1;32m    300\u001b[0m \u001b[38;5;28;01mexcept\u001b[39;00m requests\u001b[38;5;241m.\u001b[39mexceptions\u001b[38;5;241m.\u001b[39mRetryError \u001b[38;5;28;01mas\u001b[39;00m retry_error:\n\u001b[1;32m    301\u001b[0m     request \u001b[38;5;241m=\u001b[39m retry_error\u001b[38;5;241m.\u001b[39mrequest\n",
      "\u001b[0;31mSpotifyException\u001b[0m: http status: 400, code:-1 - https://api.spotify.com/v1/recommendations?limit=20&seed_artists=2%2Cu%2CF%2CU%2CB%2Cd%2Ca%2CV%2CG%2Ct%2Cy%2CM%2Cq%2Cc%2Ck%2CS%2Ce%2CC%2Cl%2C0%2CQ%2Cj&seed_genres=c%2Cl%2Ca%2Cs%2Cs%2Ci%2Cc%2Ca%2Cl&seed_tracks=1%2CB%2Cn%2Cc%2Cf%2CT%2CJ%2CA%2CW%2Cx%2Cr%2Cs%2Cx%2Cy%2CT%2C9%2Cc%2Cu%2Cl%2CB%2Cr%2Cj:\n invalid request, reason: None"
     ]
    }
   ],
   "source": [
    "sp.recommendations(seed_artists = '2uFUBdaVGtyMqckSeCl0Qj', seed_tracks = '1BncfTJAWxrsxyT9culBrj', seed_genres = 'classical', limit = 20, country = None)"
   ]
  },
  {
   "cell_type": "markdown",
   "id": "1f63053e-7a17-4e2b-b9b9-190883c5cbe6",
   "metadata": {
    "tags": []
   },
   "source": [
    "## Getting artist recommendations\n",
    "\n",
    "+ https://github.com/spotipy-dev/spotipy/blob/master/examples/artist_recommendations.py"
   ]
  },
  {
   "cell_type": "code",
   "execution_count": 15,
   "id": "ebc1ea33-b4b6-4445-b92d-856bcc33aede",
   "metadata": {
    "tags": []
   },
   "outputs": [],
   "source": [
    "def get_args():\n",
    "    parser = argparse.ArgumentParser(description='Recommendations for the '\n",
    "                                     'given artist')\n",
    "    parser.add_argument('-a', '--artist', required=True, help='Name of Artist')\n",
    "    return parser.parse_args()"
   ]
  },
  {
   "cell_type": "code",
   "execution_count": 16,
   "id": "8ef11519-e0e3-43fa-8db0-bce475eae2bb",
   "metadata": {
    "tags": []
   },
   "outputs": [],
   "source": [
    "def get_artist(name):\n",
    "    results = sp.search(q='artist:' + name, type='artist')\n",
    "    items = results['artists']['items']\n",
    "    if len(items) > 0:\n",
    "        return items[0]\n",
    "    else:\n",
    "        return None"
   ]
  },
  {
   "cell_type": "code",
   "execution_count": 17,
   "id": "eca4b913-db64-4e8e-a103-150c11c514b9",
   "metadata": {
    "tags": []
   },
   "outputs": [],
   "source": [
    "def show_recommendations_for_artist(artist):\n",
    "    results = sp.recommendations(seed_artists=[artist['id']])\n",
    "    for track in results['tracks']:\n",
    "        logger.info('Recommendation: %s - %s', track['name'],\n",
    "                    track['artists'][0]['name'])"
   ]
  },
  {
   "cell_type": "code",
   "execution_count": 18,
   "id": "c18f1bec-dce8-4fe8-8121-ebace11ae1a3",
   "metadata": {
    "tags": []
   },
   "outputs": [],
   "source": [
    "def main():\n",
    "    args = get_args()\n",
    "    artist = get_artist(args.artist)\n",
    "    if artist:\n",
    "        show_recommendations_for_artist(artist)\n",
    "    else:\n",
    "        logger.error(\"Can't find that artist\", args.artist)"
   ]
  },
  {
   "cell_type": "code",
   "execution_count": 19,
   "id": "d1f7cae0-3a45-4673-a2ce-b5d875d25ff5",
   "metadata": {
    "tags": []
   },
   "outputs": [
    {
     "name": "stderr",
     "output_type": "stream",
     "text": [
      "usage: ipykernel_launcher.py [-h] -a ARTIST\n",
      "ipykernel_launcher.py: error: the following arguments are required: -a/--artist\n"
     ]
    },
    {
     "ename": "SystemExit",
     "evalue": "2",
     "output_type": "error",
     "traceback": [
      "An exception has occurred, use %tb to see the full traceback.\n",
      "\u001b[0;31mSystemExit\u001b[0m\u001b[0;31m:\u001b[0m 2\n"
     ]
    },
    {
     "name": "stderr",
     "output_type": "stream",
     "text": [
      "/Users/roberthuey/anaconda3/envs/dsi/lib/python3.8/site-packages/IPython/core/interactiveshell.py:3513: UserWarning: To exit: use 'exit', 'quit', or Ctrl-D.\n",
      "  warn(\"To exit: use 'exit', 'quit', or Ctrl-D.\", stacklevel=1)\n"
     ]
    }
   ],
   "source": [
    "if __name__ == '__main__':\n",
    "    main()"
   ]
  },
  {
   "cell_type": "code",
   "execution_count": null,
   "id": "1fae4853-9c73-4f6d-b19e-1f9fa5528b14",
   "metadata": {},
   "outputs": [],
   "source": []
  }
 ],
 "metadata": {
  "kernelspec": {
   "display_name": "Python 3 (ipykernel)",
   "language": "python",
   "name": "python3"
  },
  "language_info": {
   "codemirror_mode": {
    "name": "ipython",
    "version": 3
   },
   "file_extension": ".py",
   "mimetype": "text/x-python",
   "name": "python",
   "nbconvert_exporter": "python",
   "pygments_lexer": "ipython3",
   "version": "3.8.16"
  }
 },
 "nbformat": 4,
 "nbformat_minor": 5
}
